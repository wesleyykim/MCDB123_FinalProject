{
 "cells": [
  {
   "cell_type": "code",
   "execution_count": 5,
   "id": "d4170edd-f5db-4c66-b42d-6c23036e1cb9",
   "metadata": {
    "tags": []
   },
   "outputs": [],
   "source": [
    "import numpy as np\n",
    "import matplotlib.pyplot as plt\n",
    "from scipy.integrate import odeint"
   ]
  },
  {
   "cell_type": "code",
   "execution_count": null,
   "id": "4ff509ae-36dc-4b10-98bc-47450d245d5d",
   "metadata": {},
   "outputs": [],
   "source": [
    "# dadt = -a + alpha/(1+C^n)\n",
    "# dbdt = -b + alpha(1+A^n)\n",
    "# dcdt = -c + alpha/(1+B^n) + kSi/(1+Si)\n",
    "# dAdt = -beta(a-A)\n",
    "# dBdt = -beta(b-B)\n",
    "# dCdt = -beta(c-C)\n",
    "# dSidt = -k0*Si + k1*A - eta(Si-Se)\n",
    "# dSedt = ke*Se + kdiff(S - Se)"
   ]
  },
  {
   "cell_type": "code",
   "execution_count": 24,
   "id": "68909b9c-8884-4b5e-bd1c-b7a08b3ec47c",
   "metadata": {
    "tags": []
   },
   "outputs": [],
   "source": [
    "def repressilator(state, t):\n",
    "    \n",
    "    a, b, c, A, B, C, Si = state\n",
    "    \n",
    "    # mRNA\n",
    "    dadt = -a + alpha/(1+C**n)\n",
    "    dbdt = -b + alpha/(1+A**n)\n",
    "    dcdt = -c + alpha/(1+B**n) + kappa*Si/(1+Si)\n",
    "    \n",
    "    # protein\n",
    "    dAdt = -beta*(a-A)\n",
    "    dBdt = -beta*(b-B)\n",
    "    dCdt = -beta*(c-C)\n",
    "    \n",
    "    # autoinducer\n",
    "    dSidt = -k0*Si + k1*A - eta*(Si-Se) # internal concentration\n",
    "    \n",
    "    return dadt, dbdt, dcdt, dAdt, dBdt, dCdt, dSidt"
   ]
  },
  {
   "cell_type": "code",
   "execution_count": 27,
   "id": "6c91ea94-465b-4b5c-83d4-484e554a2bb5",
   "metadata": {
    "tags": []
   },
   "outputs": [
    {
     "name": "stdout",
     "output_type": "stream",
     "text": [
      " lsoda--  warning..internal t (=r1) and h (=r2) are\u0000\u0000\n",
      "       such that in the machine, t + h = t on the next step  \n",
      "       (h = step size). solver will continue anyway\u0000\u0000\n",
      "      in above,  r1 =  0.2922486542343D+02   r2 =  0.6067256603339D-15\n",
      " lsoda--  warning..internal t (=r1) and h (=r2) are\u0000\u0000\n",
      "       such that in the machine, t + h = t on the next step  \n",
      "       (h = step size). solver will continue anyway\u0000\u0000\n",
      "      in above,  r1 =  0.2922486542343D+02   r2 =  0.6067256603339D-15\n",
      " lsoda--  warning..internal t (=r1) and h (=r2) are\u0000\u0000\n",
      "       such that in the machine, t + h = t on the next step  \n",
      "       (h = step size). solver will continue anyway\u0000\u0000\n",
      "      in above,  r1 =  0.2922486542343D+02   r2 =  0.6067256603339D-15\n",
      " lsoda--  warning..internal t (=r1) and h (=r2) are\u0000\u0000\n",
      "       such that in the machine, t + h = t on the next step  \n",
      "       (h = step size). solver will continue anyway\u0000\u0000\n",
      "      in above,  r1 =  0.2922486542343D+02   r2 =  0.1213451320668D-14\n",
      " lsoda--  warning..internal t (=r1) and h (=r2) are\u0000\u0000\n",
      "       such that in the machine, t + h = t on the next step  \n",
      "       (h = step size). solver will continue anyway\u0000\u0000\n",
      "      in above,  r1 =  0.2922486542343D+02   r2 =  0.1213451320668D-14\n",
      " lsoda--  warning..internal t (=r1) and h (=r2) are\u0000\u0000\n",
      "       such that in the machine, t + h = t on the next step  \n",
      "       (h = step size). solver will continue anyway\u0000\u0000\n",
      "      in above,  r1 =  0.2922486542343D+02   r2 =  0.1213451320668D-14\n",
      " lsoda--  warning..internal t (=r1) and h (=r2) are\u0000\u0000\n",
      "       such that in the machine, t + h = t on the next step  \n",
      "       (h = step size). solver will continue anyway\u0000\u0000\n",
      "      in above,  r1 =  0.2922486542343D+02   r2 =  0.1213451320668D-14\n",
      " lsoda--  warning..internal t (=r1) and h (=r2) are\u0000\u0000\n",
      "       such that in the machine, t + h = t on the next step  \n",
      "       (h = step size). solver will continue anyway\u0000\u0000\n",
      "      in above,  r1 =  0.2922486542343D+02   r2 =  0.1213451320668D-14\n",
      " lsoda--  warning..internal t (=r1) and h (=r2) are\u0000\u0000\n",
      "       such that in the machine, t + h = t on the next step  \n",
      "       (h = step size). solver will continue anyway\u0000\u0000\n",
      "      in above,  r1 =  0.2922486542343D+02   r2 =  0.2382058426207D-15\n",
      " lsoda--  warning..internal t (=r1) and h (=r2) are\u0000\u0000\n",
      "       such that in the machine, t + h = t on the next step  \n",
      "       (h = step size). solver will continue anyway\u0000\u0000\n",
      "      in above,  r1 =  0.2922486542343D+02   r2 =  0.2382058426207D-15\n",
      " lsoda--  above warning has been issued i1 times.  \u0000\u0000\n",
      "       it will not be issued again for this problem\u0000\u0000\n",
      "      in above message,  i1 =        10\n"
     ]
    },
    {
     "data": {
      "text/plain": [
       "<matplotlib.legend.Legend at 0x123566d90>"
      ]
     },
     "execution_count": 27,
     "metadata": {},
     "output_type": "execute_result"
    },
    {
     "data": {
      "image/png": "[encoded data removed]",
      "text/plain": [
       "<Figure size 640x480 with 1 Axes>"
      ]
     },
     "metadata": {},
     "output_type": "display_data"
    }
   ],
   "source": [
    "alpha = 1\n",
    "beta = 0.2\n",
    "kappa = 20\n",
    "eta = 10\n",
    "k0 = 1\n",
    "k1 = 0.1\n",
    "ke = 1/6\n",
    "kd = 1\n",
    "n = 2\n",
    "Se = 0.1\n",
    "\n",
    "state0 = [0.2, 0.1, 0.3, 0.1, 0.4, 0.5, 0.1]\n",
    "t = np.linspace(0, 200, 10000)\n",
    "\n",
    "state = odeint(repressilator, state0, t)\n",
    "\n",
    "plt.plot(t, state[:,0])\n",
    "plt.plot(t, state[:,1])\n",
    "plt.plot(t, state[:,2])\n",
    "plt.legend(('Gene 1', 'Gene 2', 'Gene 3'))"
   ]
  },
  {
   "cell_type": "code",
   "execution_count": null,
   "id": "5f296283-5007-47bf-9e89-4a50becf067a",
   "metadata": {},
   "outputs": [],
   "source": []
  },
  {
   "cell_type": "code",
   "execution_count": null,
   "id": "06638b70-79a4-4579-a862-4464e776d5ec",
   "metadata": {},
   "outputs": [],
   "source": []
  }
 ],
 "metadata": {
  "kernelspec": {
   "display_name": "Python 3 (ipykernel)",
   "language": "python",
   "name": "python3"
  },
  "language_info": {
   "codemirror_mode": {
    "name": "ipython",
    "version": 3
   },
   "file_extension": ".py",
   "mimetype": "text/x-python",
   "name": "python",
   "nbconvert_exporter": "python",
   "pygments_lexer": "ipython3",
   "version": "3.11.5"
  }
 },
 "nbformat": 4,
 "nbformat_minor": 5
}
